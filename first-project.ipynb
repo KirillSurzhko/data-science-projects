{
 "cells": [
  {
   "cell_type": "code",
   "execution_count": 25,
   "id": "2a6c31ee-0b82-45fa-b2ef-3172eb039998",
   "metadata": {},
   "outputs": [],
   "source": [
    "import numpy as np\n",
    "import pandas as pd\n",
    "import matplotlib.pyplot as plt"
   ]
  },
  {
   "cell_type": "code",
   "execution_count": 28,
   "id": "7599777a-2ed1-4157-bb64-2e7e995de19c",
   "metadata": {},
   "outputs": [],
   "source": [
    "data = pd.read_csv('country_data.csv')"
   ]
  },
  {
   "cell_type": "code",
   "execution_count": 29,
   "id": "2ce9cce2-92e1-47b6-90d7-c4d8c5d13c4d",
   "metadata": {},
   "outputs": [
    {
     "name": "stdout",
     "output_type": "stream",
     "text": [
      "               Country  Life Expectancy          GDP\n",
      "0          Afghanistan         58.19375   340.015425\n",
      "1              Albania         75.15625  2119.726679\n",
      "2              Algeria         73.61875  2847.853392\n",
      "3               Angola         49.01875  1975.143045\n",
      "4  Antigua and Barbuda         75.05625  9759.305728\n"
     ]
    }
   ],
   "source": [
    "print(data.head())"
   ]
  },
  {
   "cell_type": "code",
   "execution_count": 30,
   "id": "07ef0d07-1ed9-4e0c-b0ae-3eaa21798b7b",
   "metadata": {},
   "outputs": [],
   "source": [
    "life_expectansy = data[\"Life Expectancy\"]\n",
    "gdp = data[\"GDP\"]\n",
    "median_gdp = np.median(gdp)\n",
    "life_expectansy_quartiles = np.quantile(life_expectansy, [0.25, 0.5, 0.75])\n",
    "low_gdp = data[data[\"GDP\"] <= median_gdp]\n",
    "high_gdp = data[data[\"GDP\"] > median_gdp]"
   ]
  },
  {
   "cell_type": "code",
   "execution_count": 31,
   "id": "e227122c-0ca7-4986-9fc3-5b1abb728992",
   "metadata": {},
   "outputs": [],
   "source": [
    "low_gdp_quartiles = np.quantile(low_gdp[\"Life Expectancy\"], [0.25, 0.5, 0.75])\n",
    "high_gdp_quartiles = np.quantile(high_gdp[\"Life Expectancy\"], [0.25, 0.5, 0.75])"
   ]
  },
  {
   "cell_type": "markdown",
   "id": "a9339494-5d36-4c22-882b-772d6bdc1873",
   "metadata": {},
   "source": [
    "Average life expectancy in countries with low GDP"
   ]
  },
  {
   "cell_type": "code",
   "execution_count": 38,
   "id": "677f4327-ad8f-4307-9345-79b6f87b8c97",
   "metadata": {},
   "outputs": [
    {
     "data": {
      "image/png": "[encoded data removed]",
      "text/plain": [
       "<Figure size 640x480 with 1 Axes>"
      ]
     },
     "metadata": {},
     "output_type": "display_data"
    }
   ],
   "source": [
    "plt.subplot(211)\n",
    "plt.hist(low_gdp[\"Life Expectancy\"], range = (40, 90), bins = 30, edgecolor = 'black')\n",
    "plt.xlabel('Age')\n",
    "plt.ylabel('Count')\n",
    "for i in low_gdp_quartiles:\n",
    "  plt.axvline(x = i, c = 'r')"
   ]
  },
  {
   "cell_type": "markdown",
   "id": "18207254-f91a-49c5-a394-b24e23e3b052",
   "metadata": {},
   "source": [
    "Average life expectancy in countries with high GDP"
   ]
  },
  {
   "cell_type": "code",
   "execution_count": 36,
   "id": "a4be671a-f767-4b5b-ad65-352eea94a5cd",
   "metadata": {},
   "outputs": [
    {
     "data": {
      "image/png": "[encoded data removed]",
      "text/plain": [
       "<Figure size 640x480 with 1 Axes>"
      ]
     },
     "metadata": {},
     "output_type": "display_data"
    }
   ],
   "source": [
    "plt.subplot(211)\n",
    "plt.hist(high_gdp[\"Life Expectancy\"], range = (40, 90), bins = 30, edgecolor = 'black')\n",
    "for i in high_gdp_quartiles:\n",
    "  plt.axvline(x = i, c = 'r')"
   ]
  }
 ],
 "metadata": {
  "kernelspec": {
   "display_name": "Python 3 (ipykernel)",
   "language": "python",
   "name": "python3"
  },
  "language_info": {
   "codemirror_mode": {
    "name": "ipython",
    "version": 3
   },
   "file_extension": ".py",
   "mimetype": "text/x-python",
   "name": "python",
   "nbconvert_exporter": "python",
   "pygments_lexer": "ipython3",
   "version": "3.10.5"
  }
 },
 "nbformat": 4,
 "nbformat_minor": 5
}
